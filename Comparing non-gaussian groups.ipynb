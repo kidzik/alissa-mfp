{
 "cells": [
  {
   "cell_type": "code",
   "execution_count": 8,
   "metadata": {},
   "outputs": [
    {
     "data": {
      "text/html": [
       "<table>\n",
       "<thead><tr><th scope=col>workout_logs</th><th scope=col>bmicat</th></tr></thead>\n",
       "<tbody>\n",
       "\t<tr><td>5</td><td>2</td></tr>\n",
       "\t<tr><td>3</td><td>2</td></tr>\n",
       "\t<tr><td>9</td><td>2</td></tr>\n",
       "\t<tr><td>8</td><td>2</td></tr>\n",
       "\t<tr><td>3</td><td>2</td></tr>\n",
       "\t<tr><td>4</td><td>2</td></tr>\n",
       "</tbody>\n",
       "</table>\n"
      ],
      "text/latex": [
       "\\begin{tabular}{r|ll}\n",
       " workout\\_logs & bmicat\\\\\n",
       "\\hline\n",
       "\t 5 & 2\\\\\n",
       "\t 3 & 2\\\\\n",
       "\t 9 & 2\\\\\n",
       "\t 8 & 2\\\\\n",
       "\t 3 & 2\\\\\n",
       "\t 4 & 2\\\\\n",
       "\\end{tabular}\n"
      ],
      "text/markdown": [
       "\n",
       "| workout_logs | bmicat |\n",
       "|---|---|\n",
       "| 5 | 2 |\n",
       "| 3 | 2 |\n",
       "| 9 | 2 |\n",
       "| 8 | 2 |\n",
       "| 3 | 2 |\n",
       "| 4 | 2 |\n",
       "\n"
      ],
      "text/plain": [
       "  workout_logs bmicat\n",
       "1 5            2     \n",
       "2 3            2     \n",
       "3 9            2     \n",
       "4 8            2     \n",
       "5 3            2     \n",
       "6 4            2     "
      ]
     },
     "metadata": {},
     "output_type": "display_data"
    }
   ],
   "source": [
    "#install.packages(\"data.table\",\"MASS\",\"dunn.test\")\n",
    "library(data.table)\n",
    "library(MASS)\n",
    "library(dunn.test)\n",
    "\n",
    "data = fread('workout_logs.csv', header = T, sep = ',', stringsAsFactors = T)\n",
    "data$bmicat = as.factor(data$bmicat)\n",
    "head(data[,3:4])"
   ]
  },
  {
   "cell_type": "markdown",
   "metadata": {},
   "source": [
    "We assume that the number of workouts follows Poisson distribution and depends on the BMI category (fixed effect), but also each individual has their own personalized intercept (random effect). This is a so-called [mixed-effect model](https://en.wikipedia.org/wiki/Mixed_model), super popular in stats whenever we have multiple observations per subject."
   ]
  },
  {
   "cell_type": "code",
   "execution_count": 31,
   "metadata": {},
   "outputs": [
    {
     "name": "stderr",
     "output_type": "stream",
     "text": [
      "iteration 1\n",
      "iteration 2\n"
     ]
    },
    {
     "data": {
      "text/plain": [
       "Linear mixed-effects model fit by maximum likelihood\n",
       " Data: data[sample(nrow(data))[1:1e+06], ] \n",
       "  AIC BIC logLik\n",
       "   NA  NA     NA\n",
       "\n",
       "Random effects:\n",
       " Formula: ~1 | common_user_id\n",
       "        (Intercept) Residual\n",
       "StdDev:    7.273949 8.784084\n",
       "\n",
       "Variance function:\n",
       " Structure: fixed weights\n",
       " Formula: ~invwt \n",
       "Fixed effects: workout_logs ~ bmicat \n",
       "                Value Std.Error     DF   t-value p-value\n",
       "(Intercept) 11.049447 0.1734170 654969  63.71603       0\n",
       "bmicat2     -1.594296 0.1747853 654969  -9.12145       0\n",
       "bmicat3     -2.021963 0.1747686 654969 -11.56938       0\n",
       "bmicat4     -2.218196 0.1751245 654969 -12.66640       0\n",
       " Correlation: \n",
       "        (Intr) bmict2 bmict3\n",
       "bmicat2 -0.992              \n",
       "bmicat3 -0.992  0.984       \n",
       "bmicat4 -0.990  0.982  0.983\n",
       "\n",
       "Standardized Within-Group Residuals:\n",
       "        Min          Q1         Med          Q3         Max \n",
       "-16.2380261  -0.4070557  -0.2044558   0.1773150  62.1221324 \n",
       "\n",
       "Number of Observations: 1000000\n",
       "Number of Groups: 654973 "
      ]
     },
     "metadata": {},
     "output_type": "display_data"
    }
   ],
   "source": [
    "PQL <- glmmPQL(workout_logs ~ bmicat, ~ 1 | common_user_id, family = gaussian(),\n",
    "               data = data[sample(nrow(data))[1:1000000],], verbose = TRUE)\n",
    "summary(PQL)"
   ]
  },
  {
   "cell_type": "markdown",
   "metadata": {},
   "source": [
    "Here we can conclude that effects of BMI categories are significant and of the order of $-2$. For simply comparing the means you can also use Kruskal-Wallis test (instead of ANOVA, since the data is not normally distributed). While the result is very close to yours, it's slightly more accurate from stats perspective."
   ]
  },
  {
   "cell_type": "code",
   "execution_count": 32,
   "metadata": {},
   "outputs": [
    {
     "data": {
      "text/plain": [
       "\n",
       "\tKruskal-Wallis rank sum test\n",
       "\n",
       "data:  subset.data$workout_logs by subset.data$bmicat\n",
       "Kruskal-Wallis chi-squared = 46.753, df = 3, p-value = 3.922e-10\n"
      ]
     },
     "metadata": {},
     "output_type": "display_data"
    }
   ],
   "source": [
    "kruskal.testet.data = data[sample(nrow(data))[1:100000],]\n",
    "kruskal.test(subset.data$workout_logs ~ subset.data$bmicat)"
   ]
  },
  {
   "cell_type": "markdown",
   "metadata": {},
   "source": [
    "This test only tells us if there is a difference between the groups. To check where the difference is there is a post-hoc Dunn test."
   ]
  },
  {
   "cell_type": "code",
   "execution_count": 33,
   "metadata": {},
   "outputs": [
    {
     "name": "stdout",
     "output_type": "stream",
     "text": [
      "  Kruskal-Wallis rank sum test\n",
      "\n",
      "data: x and group\n",
      "Kruskal-Wallis chi-squared = 46.7534, df = 3, p-value = 0\n",
      "\n",
      "\n",
      "                           Comparison of x by group                            \n",
      "                                (No adjustment)                                \n",
      "Col Mean-|\n",
      "Row Mean |          1          2          3\n",
      "---------+---------------------------------\n",
      "       2 |   2.723396\n",
      "         |    0.0032*\n",
      "         |\n",
      "       3 |   3.053436   1.891160\n",
      "         |    0.0011*     0.0293\n",
      "         |\n",
      "       4 |   3.837929   5.975016   4.230552\n",
      "         |    0.0001*    0.0000*    0.0000*\n",
      "\n",
      "alpha = 0.05\n",
      "Reject Ho if p <= alpha/2\n"
     ]
    }
   ],
   "source": [
    "dunn.test(subset.data$workout_logs,subset.data$bmicat)"
   ]
  },
  {
   "cell_type": "markdown",
   "metadata": {},
   "source": [
    "Kruskal Wallis and Dunn don't take into account that we have multiple observations per subject so to be super correct you may need to first average all observation for each subject, or take a random observation from each subject, and use every subject only once.\n",
    "\n",
    "All this might be a small overkill given the size of the dataset, but for the paper you will still need to report p-values even if they don't make much sense (since they are obviously almost zero due to the size of the data)."
   ]
  }
 ],
 "metadata": {
  "kernelspec": {
   "display_name": "R",
   "language": "R",
   "name": "ir"
  },
  "language_info": {
   "codemirror_mode": "r",
   "file_extension": ".r",
   "mimetype": "text/x-r-source",
   "name": "R",
   "pygments_lexer": "r",
   "version": "3.4.4"
  }
 },
 "nbformat": 4,
 "nbformat_minor": 2
}
